{
  "nbformat": 4,
  "nbformat_minor": 0,
  "metadata": {
    "colab": {
      "provenance": [],
      "authorship_tag": "ABX9TyM8N4gjwiq4v3gk3Qxr67u3",
      "include_colab_link": true
    },
    "kernelspec": {
      "name": "python3",
      "display_name": "Python 3"
    },
    "language_info": {
      "name": "python"
    }
  },
  "cells": [
    {
      "cell_type": "markdown",
      "metadata": {
        "id": "view-in-github",
        "colab_type": "text"
      },
      "source": [
        "<a href=\"https://colab.research.google.com/github/teja1091/simple-chatbot/blob/main/chatbot%20output.ipynb\" target=\"_parent\"><img src=\"https://colab.research.google.com/assets/colab-badge.svg\" alt=\"Open In Colab\"/></a>"
      ]
    },
    {
      "cell_type": "code",
      "source": [
        "import random\n",
        "\n",
        "# List of movie recommendations\n",
        "movie_list = [\n",
        "    \"Inception\",\n",
        "    \"The Matrix\",\n",
        "    \"The Shawshank Redemption\",\n",
        "    \"The Dark Knight\",\n",
        "    \"Pulp Fiction\",\n",
        "    \"Forrest Gump\",\n",
        "    \"The Godfather\",\n",
        "    \"Fight Club\",\n",
        "    \"Interstellar\",\n",
        "    \"The Lord of the Rings: The Return of the King\"\n",
        "]\n",
        "\n",
        "# List of jokes\n",
        "joke_list = [\n",
        "    \"Why don't scientists trust atoms? Because they make up everything!\",\n",
        "    \"Why did the scarecrow win an award? Because he was outstanding in his field!\",\n",
        "    \"Why don't skeletons fight each other? They don't have the guts.\",\n",
        "    \"What do you call fake spaghetti? An impasta!\",\n",
        "    \"Why did the bicycle fall over? Because it was two-tired!\"\n",
        "]\n",
        "\n",
        "def chatbot_response(user_input):\n",
        "    # Simple responses for greeting and farewell\n",
        "    if 'hello' in user_input.lower():\n",
        "        return \"Hello! How can I help you today?\"\n",
        "    elif 'hi' in user_input.lower():\n",
        "        return \"Hi there! How can I assist you?\"\n",
        "    elif 'bye' in user_input.lower():\n",
        "        return \"Goodbye! Have a great day!\"\n",
        "    elif 'recommend a movie' in user_input.lower() or 'suggest a movie' in user_input.lower():\n",
        "        return f\"I recommend you to watch '{random.choice(movie_list)}'.\"\n",
        "    elif 'tell me a joke' in user_input.lower() or 'make me laugh' in user_input.lower():\n",
        "        return f\"Here's a joke for you: {random.choice(joke_list)}\"\n",
        "    else:\n",
        "        return \"I'm sorry, I don't understand that.\"\n",
        "\n",
        "def chatbot():\n",
        "    print(\"Welcome to the Chatbot. Type 'bye' to exit.\")\n",
        "    while True:\n",
        "        user_input = input(\"You: \")\n",
        "        if 'bye' in user_input.lower():\n",
        "            print(\"Chatbot: Goodbye! Have a great day!\")\n",
        "            break\n",
        "        response = chatbot_response(user_input)\n",
        "        print(f\"Chatbot: {response}\")\n",
        "\n",
        "if __name__ == \"__main__\":\n",
        "    chatbot()"
      ],
      "metadata": {
        "colab": {
          "base_uri": "https://localhost:8080/"
        },
        "id": "uIvnnW9anZm0",
        "outputId": "f9e6229b-56f9-4d30-fc53-2a80e46fa22a"
      },
      "execution_count": 9,
      "outputs": [
        {
          "output_type": "stream",
          "name": "stdout",
          "text": [
            "Welcome to the Chatbot. Type 'bye' to exit.\n",
            "You: hello\n",
            "Chatbot: Hello! How can I help you today?\n",
            "You: recommend a movie\n",
            "Chatbot: I recommend you to watch 'Pulp Fiction'.\n",
            "You: tell me a joke\n",
            "Chatbot: Here's a joke for you: Why don't skeletons fight each other? They don't have the guts.\n",
            "You: bye\n",
            "Chatbot: Goodbye! Have a great day!\n"
          ]
        }
      ]
    }
  ]
}